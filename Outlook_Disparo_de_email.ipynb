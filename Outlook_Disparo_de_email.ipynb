{
 "cells": [
  {
   "cell_type": "code",
   "execution_count": null,
   "metadata": {},
   "outputs": [],
   "source": [
    "import pandas as pd \n",
    "import win32com.client as win32\n",
    "import time\n",
    "from datetime import date\n",
    "\n",
    "#http://timgolden.me.uk/pywin32-docs/html/com/win32com/HTML/QuickStartClientCom.html\n",
    "#https://pandas.pydata.org/docs/getting_started/index.html\n",
    "\n",
    "pessoa_df = pd.read_excel(r\"C:\\Users\\gabri\\OneDrive\\Área de Trabalho\\Programação\\Projetos\\python\\Email_automatico\\lista_email.xlsx\")\n",
    "outlook = win32.Dispatch('outlook.application')"
   ]
  },
  {
   "cell_type": "code",
   "execution_count": null,
   "metadata": {},
   "outputs": [],
   "source": [
    "#1- Trocar o link da imagem de cabeçalho\n",
    "#2- Troca o link por trás da imagem direcionável do banner\n",
    "#3- Trocar link da imagem do banner\n",
    "\n",
    "for i, email in enumerate(pessoa_df['E-mail']):\n",
    "    pessoa = pessoa_df.loc[i, 'pessoa']\n",
    "    dia = str(date.today())\n",
    "    mail = outlook.CreateItem(0)\n",
    "    mail.To = email\n",
    "    mail.Subject = f'{pessoa} - Lançamentos '+dia\n",
    "    print(email)\n",
    "    time.sleep(1)   \n",
    "    mail.HTMLBody = f'''\n",
    "\n",
    "    <img src=link da imagem alt='img'></img>\n",
    "    <p style=\"font-size:15px\";> Bom dia, {pessoa}!\n",
    "\n",
    "    Segue <b>anexo</b> planilhas com o faturamento do mês. \n",
    "\n",
    "    Clique no Link abaixo para acessar o dashboard.</p>\n",
    "\n",
    "    <a href=\"link de direcionamento\"><img src=\"link da imagem\" alt=\"img\"></a>    \n",
    "\n",
    "\n",
    "    <p style=\"font-size:15px\";> Obrigado! \n",
    "    Com carinho,\n",
    "    Gabriel!</p>\n",
    "    ''' \n",
    "    attachments = r'anexo 1'\n",
    "    attachments_2 = r'anexo 2'\n",
    "    mail.Attachments.Add(attachments)\n",
    "    mail.Attachments.Add(attachments_2)\n",
    "\n",
    "    mail.Send()"
   ]
  }
 ],
 "metadata": {
  "kernelspec": {
   "display_name": "Python 3.8.8 ('base')",
   "language": "python",
   "name": "python3"
  },
  "language_info": {
   "codemirror_mode": {
    "name": "ipython",
    "version": 3
   },
   "file_extension": ".py",
   "mimetype": "text/x-python",
   "name": "python",
   "nbconvert_exporter": "python",
   "pygments_lexer": "ipython3",
   "version": "3.8.8"
  },
  "orig_nbformat": 4,
  "vscode": {
   "interpreter": {
    "hash": "4db3a217e6229dd3f39c424da31ae9a8751f751f21c271735a541832de679713"
   }
  }
 },
 "nbformat": 4,
 "nbformat_minor": 2
}
